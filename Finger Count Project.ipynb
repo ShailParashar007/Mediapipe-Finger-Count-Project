{
 "cells": [
  {
   "cell_type": "code",
   "execution_count": 1,
   "id": "67259cc3",
   "metadata": {},
   "outputs": [
    {
     "name": "stdout",
     "output_type": "stream",
     "text": [
      "Requirement already satisfied: mediapipe==0.8.10 in c:\\users\\shail\\appdata\\roaming\\python\\python310\\site-packages (0.8.10)\n",
      "Requirement already satisfied: absl-py in c:\\users\\shail\\anaconda3\\lib\\site-packages (from mediapipe==0.8.10) (2.0.0)\n",
      "Requirement already satisfied: opencv-contrib-python in c:\\users\\shail\\appdata\\roaming\\python\\python310\\site-packages (from mediapipe==0.8.10) (4.9.0.80)\n",
      "Requirement already satisfied: numpy in c:\\users\\shail\\anaconda3\\lib\\site-packages (from mediapipe==0.8.10) (1.23.5)\n",
      "Requirement already satisfied: matplotlib in c:\\users\\shail\\anaconda3\\lib\\site-packages (from mediapipe==0.8.10) (3.7.0)\n",
      "Requirement already satisfied: protobuf>=3.11.4 in c:\\users\\shail\\anaconda3\\lib\\site-packages (from mediapipe==0.8.10) (3.19.0)\n",
      "Requirement already satisfied: attrs>=19.1.0 in c:\\users\\shail\\anaconda3\\lib\\site-packages (from mediapipe==0.8.10) (22.1.0)\n",
      "Requirement already satisfied: contourpy>=1.0.1 in c:\\users\\shail\\anaconda3\\lib\\site-packages (from matplotlib->mediapipe==0.8.10) (1.0.5)\n",
      "Requirement already satisfied: cycler>=0.10 in c:\\users\\shail\\anaconda3\\lib\\site-packages (from matplotlib->mediapipe==0.8.10) (0.11.0)\n",
      "Requirement already satisfied: python-dateutil>=2.7 in c:\\users\\shail\\anaconda3\\lib\\site-packages (from matplotlib->mediapipe==0.8.10) (2.8.2)\n",
      "Requirement already satisfied: fonttools>=4.22.0 in c:\\users\\shail\\anaconda3\\lib\\site-packages (from matplotlib->mediapipe==0.8.10) (4.25.0)\n",
      "Requirement already satisfied: packaging>=20.0 in c:\\users\\shail\\anaconda3\\lib\\site-packages (from matplotlib->mediapipe==0.8.10) (22.0)\n",
      "Requirement already satisfied: pyparsing>=2.3.1 in c:\\users\\shail\\anaconda3\\lib\\site-packages (from matplotlib->mediapipe==0.8.10) (3.0.9)\n",
      "Requirement already satisfied: pillow>=6.2.0 in c:\\users\\shail\\anaconda3\\lib\\site-packages (from matplotlib->mediapipe==0.8.10) (9.4.0)\n",
      "Requirement already satisfied: kiwisolver>=1.0.1 in c:\\users\\shail\\anaconda3\\lib\\site-packages (from matplotlib->mediapipe==0.8.10) (1.4.4)\n",
      "Requirement already satisfied: six>=1.5 in c:\\users\\shail\\anaconda3\\lib\\site-packages (from python-dateutil>=2.7->matplotlib->mediapipe==0.8.10) (1.16.0)\n"
     ]
    },
    {
     "name": "stderr",
     "output_type": "stream",
     "text": [
      "WARNING: Ignoring invalid distribution -rotobuf (c:\\users\\shail\\anaconda3\\lib\\site-packages)\n",
      "WARNING: Ignoring invalid distribution -rotobuf (c:\\users\\shail\\anaconda3\\lib\\site-packages)\n",
      "WARNING: Ignoring invalid distribution -rotobuf (c:\\users\\shail\\anaconda3\\lib\\site-packages)\n",
      "WARNING: Ignoring invalid distribution -rotobuf (c:\\users\\shail\\anaconda3\\lib\\site-packages)\n",
      "WARNING: Ignoring invalid distribution -rotobuf (c:\\users\\shail\\anaconda3\\lib\\site-packages)\n",
      "WARNING: Ignoring invalid distribution -rotobuf (c:\\users\\shail\\anaconda3\\lib\\site-packages)\n"
     ]
    },
    {
     "name": "stdout",
     "output_type": "stream",
     "text": [
      "Requirement already satisfied: protobuf==3.19 in c:\\users\\shail\\anaconda3\\lib\\site-packages (3.19.0)\n"
     ]
    },
    {
     "name": "stderr",
     "output_type": "stream",
     "text": [
      "WARNING: Ignoring invalid distribution -rotobuf (c:\\users\\shail\\anaconda3\\lib\\site-packages)\n",
      "WARNING: Ignoring invalid distribution -rotobuf (c:\\users\\shail\\anaconda3\\lib\\site-packages)\n",
      "WARNING: Ignoring invalid distribution -rotobuf (c:\\users\\shail\\anaconda3\\lib\\site-packages)\n",
      "WARNING: Ignoring invalid distribution -rotobuf (c:\\users\\shail\\anaconda3\\lib\\site-packages)\n",
      "WARNING: Ignoring invalid distribution -rotobuf (c:\\users\\shail\\anaconda3\\lib\\site-packages)\n",
      "WARNING: Ignoring invalid distribution -rotobuf (c:\\users\\shail\\anaconda3\\lib\\site-packages)\n"
     ]
    }
   ],
   "source": [
    "!pip install mediapipe==0.8.10 --user #Importing Mediapipe library\n",
    "!pip install protobuf==3.19"
   ]
  },
  {
   "cell_type": "code",
   "execution_count": 2,
   "id": "0ee67b61",
   "metadata": {},
   "outputs": [],
   "source": [
    "\n",
    "import cv2 #Importing CV2 to capture video from webcam\n",
    "import time\n",
    "\n",
    "import mediapipe as mp"
   ]
  },
  {
   "cell_type": "code",
   "execution_count": 3,
   "id": "d553466f",
   "metadata": {},
   "outputs": [],
   "source": [
    "cap=cv2.VideoCapture(0) "
   ]
  },
  {
   "cell_type": "code",
   "execution_count": 4,
   "id": "971f1202",
   "metadata": {},
   "outputs": [],
   "source": [
    "previous_finger_state = [0, 0, 0, 0, 0]"
   ]
  },
  {
   "cell_type": "code",
   "execution_count": 5,
   "id": "3e2b82f3",
   "metadata": {},
   "outputs": [],
   "source": [
    "mp_hands=mp.solutions.hands #Making object of Mediapipe \n",
    "hands=mp_hands.Hands()\n",
    "mp_drawing=mp.solutions.drawing_utils\n",
    "\n",
    "\n"
   ]
  },
  {
   "cell_type": "code",
   "execution_count": 6,
   "id": "d280e509",
   "metadata": {},
   "outputs": [],
   "source": [
    "while True:\n",
    "    ret,frame=cap.read()\n",
    "    if not ret:\n",
    "        break\n",
    "    \n",
    "    # Convert from BGR to RGB\n",
    "    image = cv2.cvtColor(frame, cv2.COLOR_BGR2RGB)\n",
    "    image=hands.process(image)\n",
    "    \n",
    "    \n",
    "    # Detection of Hand  \n",
    "    if image.multi_hand_landmarks:\n",
    "         # To draw landmark of fingers\n",
    "        drawing_spec_fingers = mp_drawing.DrawingSpec(color=(0, 0, 255), thickness=2, circle_radius=5) \n",
    "       \n",
    "        # To draw connections on hands\n",
    "        drawing_spec = mp_drawing.DrawingSpec(color=(0, 255, 0), thickness=2, circle_radius=2)\n",
    "        \n",
    "        # Landmarks on hands\n",
    "        for landmarks in image.multi_hand_landmarks:\n",
    "            mp_drawing.draw_landmarks(frame,landmarks,mp_hands.HAND_CONNECTIONS,drawing_spec_fingers,drawing_spec) \n",
    "            \n",
    "            # Taking landmarks data of Fingers\n",
    "            # Here's the breakdown of the landmark indices for each finger:\n",
    "            # Thumb Tip: landmarks.landmark[4]\n",
    "            # Index Finger Tip: landmarks.landmark[8]\n",
    "            # Middle Finger Tip: landmarks.landmark[12]\n",
    "            # Ring Finger Tip: landmarks.landmark[16]\n",
    "            # Little Finger Tip: landmarks.landmark[20]\n",
    "            finger_tips = [landmarks.landmark[4], landmarks.landmark[8], landmarks.landmark[12],\n",
    "                           landmarks.landmark[16], landmarks.landmark[20]]\n",
    "            current_finger_state=[1 if finger_tip.y<landmarks.landmark[tip_base].y else 0 for finger_tip,tip_base\n",
    "                                    in zip(finger_tips, [17, 6, 10, 14, 18])]\n",
    "    \n",
    "    \n",
    "            finger_count = sum(current_finger_state)\n",
    "        \n",
    "            previous_finger_state = current_finger_state\n",
    "            x\n",
    "            \n",
    "            # Putting Text to show count\n",
    "            cv2.putText(frame, f\"Finger Count: {finger_count}\", (10, 100), cv2.FONT_HERSHEY_SIMPLEX, 1,\n",
    "                        (0, 255, 0), 2)\n",
    "            \n",
    "    # Window to show output of code        \n",
    "    cv2.imshow('Hand Count',frame)\n",
    "    key=cv2.waitKey(5)\n",
    "    if key==ord('x'):\n",
    "        break\n",
    "        \n",
    "cap.release()\n",
    "cv2.destroyAllWindows()  \n",
    "              \n",
    "            \n",
    "            \n",
    "   \n",
    "    \n",
    "           "
   ]
  },
  {
   "cell_type": "code",
   "execution_count": null,
   "id": "f4549b6a",
   "metadata": {},
   "outputs": [],
   "source": [
    "       "
   ]
  },
  {
   "cell_type": "code",
   "execution_count": null,
   "id": "0bc8d78a",
   "metadata": {},
   "outputs": [],
   "source": []
  },
  {
   "cell_type": "code",
   "execution_count": null,
   "id": "f897322f",
   "metadata": {},
   "outputs": [],
   "source": []
  }
 ],
 "metadata": {
  "kernelspec": {
   "display_name": "Python 3 (ipykernel)",
   "language": "python",
   "name": "python3"
  },
  "language_info": {
   "codemirror_mode": {
    "name": "ipython",
    "version": 3
   },
   "file_extension": ".py",
   "mimetype": "text/x-python",
   "name": "python",
   "nbconvert_exporter": "python",
   "pygments_lexer": "ipython3",
   "version": "3.10.9"
  }
 },
 "nbformat": 4,
 "nbformat_minor": 5
}
